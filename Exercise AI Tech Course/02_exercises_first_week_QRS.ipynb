{
 "cells": [
  {
   "cell_type": "markdown",
   "id": "6364751d",
   "metadata": {},
   "source": [
    "# Python Fundamentals – Exercise Notebook\n",
    "Created on June 18, 2025\n",
    "\n",
    "Welcome! Work through each section in order. **Feel free to run cells, edit code and add new cells**. Most code cells contain `TODO` markers where you should write your answers.\n",
    "\n",
    "---\n",
    "## How to use this notebook\n",
    "1. Read the instructions in each *markdown* cell.\n",
    "2. Complete the tasks in the corresponding *code* cell.\n",
    "3. Run the cell (`Shift+Enter`) to test your solution.\n",
    "4. Compare with the optional *Solution* cells (collapsed) when provided.\n",
    "\n",
    "> **Tip**: If you ever get stuck, run `help(object)` or google the concept."
   ]
  },
  {
   "cell_type": "markdown",
   "id": "5d7665e9",
   "metadata": {},
   "source": [
    "## 1. Comments and Variables\n",
    "Python ignores everything written after a `#` on a line. Use comments to explain your thinking.\n",
    "\n",
    "**Tasks**\n",
    "1. Add a one‑line comment describing what the variable stores.\n",
    "2. Create two numeric variables, `a` and `b`, assign them values, then swap their contents **without using a third variable**.\n",
    "3. Print their values before and after swapping."
   ]
  },
  {
   "cell_type": "code",
   "execution_count": null,
   "id": "eae011fa",
   "metadata": {},
   "outputs": [
    {
     "name": "stdout",
     "output_type": "stream",
     "text": [
      "Before swap: 3 7\n",
      "After swap: 7 3\n"
     ]
    }
   ],
   "source": [
    "# TODO: Write your code here\n",
    "# 1. Comment goes above the variable\n",
    "#the variable 'message' below stores string value - Kresna|QRS\n",
    "message = 'Hello, world!'\n",
    "\n",
    "# 2. Create and swap variables a and b\n",
    "# Your code below\n",
    "a = 3\n",
    "b = 7\n",
    "print('Before swap:', a, b)\n",
    "\n",
    "# TODO: swap a and b without a temp variable\n",
    "a, b = b, a #code to swap the value - QRS\n",
    "\n",
    "print('After swap:', a, b)"
   ]
  },
  {
   "cell_type": "markdown",
   "id": "46e4e5ba",
   "metadata": {},
   "source": [
    "## 2. Data Types and Basic Input/Output\n",
    "Python has several built‑in data types – integers, floats, booleans, strings, etc.\n",
    "\n",
    "**Tasks**\n",
    "1. Write code that asks the user for their *first name* and *age* using `input()` and stores them.\n",
    "2. Convert the age to an integer and calculate how many months old they are.\n",
    "3. Print a friendly message like: `Hi Alice, you are approximately 300 months old!`\n",
    "\n",
    "*Hint*: Multiplication and f‑strings will help."
   ]
  },
  {
   "cell_type": "code",
   "execution_count": null,
   "id": "5b9c900a",
   "metadata": {},
   "outputs": [
    {
     "name": "stdout",
     "output_type": "stream",
     "text": [
      "Hi Kresna, you are approximately 468 months old!\n"
     ]
    }
   ],
   "source": [
    "# TODO: Get user input and perform calculations\n",
    "first_name = str(input(\"Please input your first name: \"))\n",
    "year_age = int(input(\"then type in your age: \"))\n",
    "\n",
    "mth_age = year_age * 12 #Converting age in years to approx month -QRS\n",
    "\n",
    "print(f\"Hi {first_name}, you are approximately {mth_age} months old!\")\n",
    "\n"
   ]
  },
  {
   "cell_type": "markdown",
   "id": "3080e6a6",
   "metadata": {},
   "source": [
    "## 3. Working with Strings\n",
    "Strings have many handy methods.\n",
    "\n",
    "**Tasks**\n",
    "1. Create a string variable containing a sentence of at least **10** words.\n",
    "2. Count how many words the sentence has (don’t just print 10!).\n",
    "3. Replace every occurrence of the letter `a` (lowercase only) with `@` and print the new sentence.\n",
    "4. Bonus: Reverse the entire sentence using slicing."
   ]
  },
  {
   "cell_type": "code",
   "execution_count": null,
   "id": "1c124b76",
   "metadata": {},
   "outputs": [
    {
     "name": "stdout",
     "output_type": "stream",
     "text": [
      "17\n",
      "The nintendo switch second gener@tion h@s @lre@dy begun to be sold in the beginning of this month\n",
      "htnom siht fo gninnigeb eht ni dlos eb ot nugeb ydaerla sah noitareneg dnoces hctiws odnetnin ehT\n"
     ]
    }
   ],
   "source": [
    "# TODO: String manipulations\n",
    "sentence = \"The nintendo switch second generation has already begun to be sold in the beginning of this month\"\n",
    "words = sentence.split() #splitiing the sentence into single word - QRS\n",
    "word_count = len(words) #determining how many words - QRS\n",
    "replace_sentence = sentence.replace(\"a\", \"@\") #Replacing every a letter with @ - QRS\n",
    "reversed_sentence = sentence[::-1] #reversing the sentence from the back - QRS\n",
    "\n",
    "print(word_count)\n",
    "print(replace_sentence)\n",
    "print(reversed_sentence)\n"
   ]
  },
  {
   "cell_type": "markdown",
   "id": "dcc764bc",
   "metadata": {},
   "source": [
    "## 4. Lists and Tuples\n",
    "Lists are mutable sequences; tuples are immutable.\n",
    "\n",
    "**Tasks**\n",
    "1. Create a list of **five** favourite foods.\n",
    "2. Replace the middle item with another food.\n",
    "3. Append a new food to the end, then remove the first item.\n",
    "4. Convert the final list to a tuple and print it."
   ]
  },
  {
   "cell_type": "code",
   "execution_count": null,
   "id": "ac5e5475",
   "metadata": {},
   "outputs": [
    {
     "name": "stdout",
     "output_type": "stream",
     "text": [
      "['sushi', 'ramyeon', 'mango', 'rendang', 'oxtail bone soup']\n",
      "['ramyeon', 'mango', 'rendang', 'oxtail bone soup', 'lumpia']\n",
      "('ramyeon', 'mango', 'rendang', 'oxtail bone soup', 'lumpia')\n"
     ]
    }
   ],
   "source": [
    "# TODO: List and tuple operations\n",
    "favorite_foods = [\"sushi\", \"ramyeon\", \"durian\", \"rendang\", \"oxtail bone soup\"]\n",
    "mid_food = \"mango\"\n",
    "favorite_foods[2] = mid_food #replacing the middle positioned food with a new one - QRS\n",
    "\n",
    "print(favorite_foods)\n",
    "\n",
    "append_food = \"lumpia\"\n",
    "favorite_foods.append(append_food) #Adding the new food to the list - QRS\n",
    "favorite_foods.pop(0) #got this from GPT, command to remove the first position food - QRS\n",
    "\n",
    "print(favorite_foods)\n",
    "\n",
    "final_tuple = tuple(favorite_foods) #Making the list to become immutable with tuple - QRS\n",
    "print(final_tuple)\n"
   ]
  },
  {
   "cell_type": "markdown",
   "id": "b859940b",
   "metadata": {},
   "source": [
    "## 5. Dictionaries and Sets\n",
    "**Tasks**\n",
    "1. Create a dictionary that maps three country codes to their capital cities (e.g., `'AU': 'Canberra'`).\n",
    "2. Add one more entry, then update the capital for one existing country.\n",
    "3. Create a **set** of the dictionary's capital names. Add a duplicate name and observe what happens.\n",
    "4. Print the final dictionary and set."
   ]
  },
  {
   "cell_type": "code",
   "execution_count": null,
   "id": "eafdb9bb",
   "metadata": {},
   "outputs": [
    {
     "name": "stdout",
     "output_type": "stream",
     "text": [
      "Final dictionary: {'ID': 'Denpasar', 'MY': 'Kuala Lumpur', 'TH': 'Bangkok', 'JP': 'Tokyo'}\n",
      "Final set: {'Bangkok', 'Kuala Lumpur', 'Tokyo', 'Denpasar'}\n"
     ]
    }
   ],
   "source": [
    "# TODO: Dictionary and set practice\n",
    "country_cap = {\n",
    "    \"ID\": \"Jakarta\",  \n",
    "    \"MY\": \"Kuala Lumpur\",           \n",
    "    \"TH\": \"Bangkok\", \n",
    "} # making dictionary of 3 country and their capital - QRS\n",
    "\n",
    "country_cap[\"JP\"] = \"Tokyo\" # adding one more entry - QRS\n",
    "\n",
    "country_cap[\"ID\"] = \"Denpasar\" # update capital of one existing country - QRS\n",
    "\n",
    "cap_name = country_cap.values() # pooling the values of the dictionary - QRS\n",
    "cap_name_set = set(cap_name) # create the list of capital into a set - QRS\n",
    "\n",
    "duplicate_cap = \"Bangkok\"\n",
    "cap_name_set.add(duplicate_cap) # add a duplicate capital - QRS\n",
    "\n",
    "print(\"Final dictionary:\", country_cap)\n",
    "print(\"Final set:\", cap_name_set)\n",
    "\n"
   ]
  },
  {
   "cell_type": "markdown",
   "id": "391af067",
   "metadata": {},
   "source": [
    "## 6. Conditionals (`if`, `elif`, `else`)\n",
    "**Tasks**\n",
    "1. Write a program that asks the user for a number and tells them whether it is **positive**, **negative**, or **zero**.\n",
    "2. Extend it to tell the user whether the number is *even* or *odd* as well."
   ]
  },
  {
   "cell_type": "code",
   "execution_count": 6,
   "id": "c2c9dbff",
   "metadata": {},
   "outputs": [
    {
     "name": "stdout",
     "output_type": "stream",
     "text": [
      "The number is negative and odd\n"
     ]
    }
   ],
   "source": [
    "# TODO: Conditionals\n",
    "input_num = int(input(\"Please enter a number: \"))\n",
    "\n",
    "if input_num > 0: #identifying the positive numbers - QRS\n",
    "    if input_num % 2 == 0: #to filter the odd - QRS\n",
    "        print(\"The number is positive and even\")\n",
    "    else:\n",
    "        print(\"The number is positive and odd\")\n",
    "elif input_num < 0: #identifying the negative numbers - QRS\n",
    "    if input_num % 2 == 0: #To filter the odd - QRS\n",
    "        print(\"The number is negative and even\")\n",
    "    else:\n",
    "        print(\"The number is negative and odd\")\n",
    "else: #Zero is the only option - QRS\n",
    "    print(\"The number is a zero\")\n"
   ]
  },
  {
   "cell_type": "markdown",
   "id": "3584800d",
   "metadata": {},
   "source": [
    "## 7. Loops (`for`, `while`)\n",
    "**Tasks**\n",
    "1. Use a **for‑loop** to print the squares of numbers from 1 to 10 on one line separated by spaces.\n",
    "2. Use a **while‑loop** to repeatedly ask the user to enter secret code `42`. Stop looping when they guess correctly and congratulate them.\n",
    "*Hint*: Use `break` to exit the loop early.*"
   ]
  },
  {
   "cell_type": "code",
   "execution_count": null,
   "id": "cd4d3bd3",
   "metadata": {},
   "outputs": [
    {
     "name": "stdout",
     "output_type": "stream",
     "text": [
      "1 4 9 16 25 36 49 64 81 100 \n",
      "oops.. Still incorrect.\n",
      "oops.. Still incorrect.\n",
      "oops.. Still incorrect.\n",
      "Congratulations! you cracked the code.\n"
     ]
    }
   ],
   "source": [
    "# TODO: Loop exercises\n",
    "for val in range(1, 11):\n",
    "    val = val**2\n",
    "    print(val, end=\" \")\n",
    "\n",
    "print()\n",
    "num = 0\n",
    "while num != 42: #Making loop if the input number is not 42 - QRS\n",
    "    num = int(input(\"please enter the secret code number: \"))\n",
    "    if num != 42: \n",
    "        print(\"oops.. Still incorrect.\")\n",
    "    else: #exit loop when 42 is typed-in - QRS\n",
    "        print(\"Congratulations! you cracked the code.\")\n"
   ]
  },
  {
   "cell_type": "markdown",
   "id": "b0bd3bd6",
   "metadata": {},
   "source": [
    "## 8. Functions\n",
    "**Tasks**\n",
    "1. Write a function `fizz_buzz(n)` that returns a list of numbers from 1 to `n` with multiples of 3 replaced by `'Fizz'`, multiples of 5 by `'Buzz'`, and multiples of both by `'FizzBuzz'`.\n",
    "2. Write *docstrings* for the function.\n",
    "3. Write tests that demonstrate your function works for `n = 15`."
   ]
  },
  {
   "cell_type": "code",
   "execution_count": 4,
   "id": "d3132918",
   "metadata": {},
   "outputs": [
    {
     "name": "stdout",
     "output_type": "stream",
     "text": [
      "\n",
      "-- Test case for n=15 --\n",
      "\n",
      "The list is: [1, 2, 'Fizz', 4, 'Buzz', 'Fizz', 7, 8, 'Fizz', 'Buzz', 11, 'Fizz', 13, 14, 'FizzBuzz']\n"
     ]
    }
   ],
   "source": [
    "# TODO: Define fizz_buzz and test it\n",
    "def fizz_buzz(n):\n",
    "    \"\"\"\n",
    "    Function for identifying the multiples of 3, 5 and both, \n",
    "    to then replaced them with \"Fizz\", \"Buzz\" and \"FizzBuzz\" respectively - QRS\n",
    "    \"\"\"\n",
    "    result_list = []\n",
    "    for num in range (1, n+1):\n",
    "        if num % 3 == 0 and num % 5 == 0: # to check multiples of both 3 and 5 first - QRS\n",
    "            result_list.append(\"FizzBuzz\")\n",
    "        elif num % 5 == 0: # to check multiples of 5 only - QRS\n",
    "            result_list.append(\"Buzz\")\n",
    "        elif num % 3 == 0: # to check multiples of 3 only - QRS\n",
    "            result_list.append(\"Fizz\")\n",
    "        else:\n",
    "            result_list.append(num)\n",
    "        \n",
    "    return result_list\n",
    "\n",
    "\n",
    "print(\"\\n-- Test case for n=15 --\")\n",
    "for_test = fizz_buzz(15) #testing the def function with given n=15 - QRS\n",
    "print(\"\\nThe list is:\", for_test)\n"
   ]
  },
  {
   "cell_type": "markdown",
   "id": "2c35ca33",
   "metadata": {},
   "source": [
    "## 9. Mini Project – Guessing Game\n",
    "Combine what you've learned to build a simple number guessing game:\n",
    "\n",
    "1. Generate a random integer between 1 and 100 (you'll need `import random`).\n",
    "2. Prompt the user to guess the number, giving feedback \"Too high\" or \"Too low\" until they guess correctly.\n",
    "3. Keep track of how many attempts the user needed and print it at the end.\n",
    "4. Wrap the game logic in a **function** called `play_game()` so you can replay easily."
   ]
  },
  {
   "cell_type": "code",
   "execution_count": 7,
   "id": "5f111a82",
   "metadata": {},
   "outputs": [
    {
     "name": "stdout",
     "output_type": "stream",
     "text": [
      "Try to guess a whole number between 1 and 100. You only have 7 attempts\n",
      "Your number is too high.\n",
      "Your number is too low.\n",
      "Your number is too low.\n",
      "Your number is too high.\n",
      "Your number is too low.\n",
      "Congratulations! You guessed correctly in 6 attempts!\n"
     ]
    }
   ],
   "source": [
    "# TODO: Build your guessing game here\n",
    "import random\n",
    "\n",
    "def play_game():\n",
    "    \"\"\"\n",
    "    Plays a number guessing game of a random number between 1 and 100.\n",
    "    It will prompt too high or too low for the incorrect guesses.\n",
    "    The game only gives maximum 7 attempts and will congratulates if the number guessed correctly beforehand.\n",
    "    -- QRS --\n",
    "    \"\"\"\n",
    "    target = random.randint(1, 100) #generate random integer between 1 and 100 - QRS\n",
    "    max_attmp = 7 #For a reasonable limit of guesses - QRS\n",
    "\n",
    "    print(f\"Try to guess a whole number between 1 and 100. You only have {max_attmp} attempts\")\n",
    "\n",
    "    for attempt in range(max_attmp):\n",
    "        curr_attmp = attempt + 1 #to keep track the user attempts - QRS\n",
    "        guess_num = int(input(f\"Attempt {curr_attmp} of {max_attmp}: Try to guess the number again: \"))\n",
    "\n",
    "        if guess_num > target:\n",
    "            print(\"Your number is too high.\") #prompt for higer number - QRS\n",
    "        elif guess_num < target:\n",
    "            print(\"Your number is too low.\") #Prompt for lower number - QRS\n",
    "        else:\n",
    "            print(f\"Congratulations! You guessed correctly in {curr_attmp} attempts!\")\n",
    "            return #Exit function immediately after succes - QRS\n",
    "        \n",
    "    print(f\"Sorry, you've used all {max_attmp} attempts. The number was {target}. Try again next time!\") #prompt if the all attempts used and no correct answer - QRS\n",
    "\n",
    "play_game()\n"
   ]
  }
 ],
 "metadata": {
  "kernelspec": {
   "display_name": ".venvAI",
   "language": "python",
   "name": "python3"
  },
  "language_info": {
   "codemirror_mode": {
    "name": "ipython",
    "version": 3
   },
   "file_extension": ".py",
   "mimetype": "text/x-python",
   "name": "python",
   "nbconvert_exporter": "python",
   "pygments_lexer": "ipython3",
   "version": "3.12.0"
  }
 },
 "nbformat": 4,
 "nbformat_minor": 5
}
